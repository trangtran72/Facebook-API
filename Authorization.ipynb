{
 "cells": [
  {
   "cell_type": "markdown",
   "metadata": {},
   "source": [
    "##Developing to the Facebook API##"
   ]
  },
  {
   "cell_type": "markdown",
   "metadata": {},
   "source": []
  },
  {
   "cell_type": "markdown",
   "metadata": {},
   "source": [
    "## The Steps\n",
    "\n",
    "Note that only the most important steps of the OAuth Dance will be mentioned here. Some will be omitted\n",
    "\n",
    "### Preliminary Step: Become a Registered Developer and Create an App\n",
    "\n",
    "For Facebook, as for any other enviroment with the separation of the resource owner from the app/client/consumer, the provider must be able to **identify/authenticate** the app/client/consumer.  This involves the human developer creating an account and further defining a particular App.  The same developer may, in fact, create multiple distinct Apps, but for now we will assume a single App."
   ]
  },
  {
   "cell_type": "markdown",
   "metadata": {},
   "source": [
    "In the case of Facebook, we first logged in as our normal Facebook user.  We then followed the directions as posted under Facebook Developer:\n",
    "\n",
    "https://developers.facebook.com/docs/apps/register"
   ]
  },
  {
   "cell_type": "code",
   "execution_count": 3,
   "metadata": {},
   "outputs": [],
   "source": [
    "import json\n",
    "import requests"
   ]
  },
  {
   "cell_type": "markdown",
   "metadata": {},
   "source": [
    "Reading the contents of `creds.json` into a Python dictionary data structure. This file is a place holder for all of my credentials (Trang)"
   ]
  },
  {
   "cell_type": "code",
   "execution_count": 4,
   "metadata": {},
   "outputs": [
    {
     "name": "stdout",
     "output_type": "stream",
     "text": [
      "{'appid': '1532167366905914', 'appsecret': '8cfdcfe4fb92e6af2119a6eff9325a36', 'redirect_uri': 'https://localhost/callback', 'code': 'AQAwGgQYRIle3vVR7OjrzMHmdhEiJCDpdrROlfE7tHXZxZGFIdQGYAhc5tKk7qamDq6T7TeH2O7j-hptrbCnKkMK_pUhGseXHIthVbwmDsl9whPscUZXSO6c8SXZUqeTWa-ST2_TN3_RIZzjxUAPhuVSVD5alRxlHmeICuA-k9K03BM6VUBaq-bpt8apccqkR5Bm3fIerG9y3zUZPWHcZrasvbqPj-QlRG8I239byGxy3UxKKHR9RlJLuJeE6ydTmWA80XFF52rWlUOK5TBNS6T3cjnrLTKarkiM-xbecLLQGwRsyFN3WNe4k-CiK318TZWxCrUkPrI3tZyAnl7VehrF', 'state': '1234567890', 'scope': ['public_profile', 'user_likes', 'user_photos', 'user_posts'], 'mytoken': 'EAAVxf4OkEDoBAE4cThIm0acjgpGCId0dPzT5krPF8o2LAZC627lsr6EZAaMQrcQbe4hPmYiycUFkzy9N3La4MGl0ImmdDHC1YiQ9q04OZCL9ZC9UvI9SoMLNMtGzK5cAzOCaVBVkv6bjnZCjybd5G1f126s3veJf76rmZAELCjBwZDZD'}\n"
     ]
    }
   ],
   "source": [
    "with open(\"creds.json\", \"r\") as file:\n",
    "    creds = json.load(file)\n",
    "print(str(creds['facebook']))"
   ]
  },
  {
   "cell_type": "markdown",
   "metadata": {},
   "source": [
    "### Step 1. Construct the URL to give to the User/Resource Owner\n",
    "\n",
    "> **Line 1** of the OAuth Dance\n",
    "\n",
    "For Facebook, we are using the documentation at\n",
    "\n",
    "https://developers.facebook.com/docs/facebook-login/access-tokens\n",
    "\n",
    "Through the documentation, we are able to determine the protocol, location, resource, and parameters to be used in the constructed URL.  In particular, for Facebook, we have:\n",
    "\n",
    "variable | value | comment\n",
    "---------|-------|:--------\n",
    "protocol | `https` | Given in GET specification\n",
    "location | `www.facebook.com` | Given in GET specification\n",
    "resource  | `/v2.12/dialog/oauth?` | Given in GET specification\n",
    "client_id | `creds['facebook']['appid']` | Based on App registration and entering info in `creds.json`\n",
    "redirect_uri | `creds['facebook']['redirect_uri]` | Based on App registration and entering info in `creds.json`\n",
    "scopes | `creds['facebook']['scope']` | Possible values specified at https://developers.facebook.com/docs/facebook-login/permissions.\n",
    "\n",
    "We want to look at the following scopes `public_profile`, `user_likes`, `user_photos`, `user_posts`, which have been specified in the `creds.json` file.\n",
    "\n",
    "We construct the base of the `url` the same way we did before"
   ]
  },
  {
   "cell_type": "code",
   "execution_count": 11,
   "metadata": {},
   "outputs": [],
   "source": [
    "def buildBaseURL(location, auth_resource, protocol='https'):\n",
    "    '''\n",
    "    This function takes 3 parameters: a default value of protocol, a location, and a resource to \n",
    "    construct a complete base URL. In this case, protocol is optional\n",
    "    \n",
    "    Return: A string URL\n",
    "    '''\n",
    "    template = \"{}://{}{}\"\n",
    "    authurl = template.format(protocol, location, auth_resource)\n",
    "    return authurl"
   ]
  },
  {
   "cell_type": "code",
   "execution_count": 8,
   "metadata": {},
   "outputs": [
    {
     "name": "stdout",
     "output_type": "stream",
     "text": [
      "https://www.facebook.com/v2.12/dialog/oauth?\n"
     ]
    }
   ],
   "source": [
    "location = \"www.facebook.com\"\n",
    "auth_resource = \"/v2.12/dialog/oauth?\"\n",
    "authurl = buildBaseURL(location, auth_resource, protocol='https')\n",
    "print(authurl)"
   ]
  },
  {
   "cell_type": "code",
   "execution_count": 22,
   "metadata": {},
   "outputs": [
    {
     "data": {
      "text/plain": [
       "{'client_id': '1532167366905914',\n",
       " 'redirect_uri': 'https://localhost/callback',\n",
       " 'response_type': 'code',\n",
       " 'scope': ['public_profile', 'user_likes', 'user_photos', 'user_posts'],\n",
       " 'state': '1234567890'}"
      ]
     },
     "execution_count": 22,
     "metadata": {},
     "output_type": "execute_result"
    }
   ],
   "source": [
    "#Load the parameters specified in the creds.json into a dictionary\n",
    "urlquery = {}\n",
    "urlquery['client_id'] = creds['facebook']['appid']\n",
    "urlquery['redirect_uri'] = creds['facebook']['redirect_uri']\n",
    "urlquery['response_type'] = 'code'\n",
    "urlquery['state'] = creds['facebook']['state']\n",
    "urlquery['scope'] = creds['facebook']['scope']\n",
    "urlquery"
   ]
  },
  {
   "cell_type": "code",
   "execution_count": 20,
   "metadata": {},
   "outputs": [],
   "source": [
    "def buildURLwithParams(location, auth_resource, pdict):\n",
    "    '''\n",
    "    This function takes three parameters: a location, a resource and a dictionary, \n",
    "    construct an authorization URL\n",
    "    \n",
    "    Return: A string URL\n",
    "    '''\n",
    "    \n",
    "    authurl = buildBaseURL(location, auth_resource, protocol='https')\n",
    "    session = requests.Session() \n",
    "    p = requests.Request('GET', authurl, params=pdict).prepare()\n",
    "    return p.url"
   ]
  },
  {
   "cell_type": "code",
   "execution_count": 21,
   "metadata": {},
   "outputs": [
    {
     "name": "stdout",
     "output_type": "stream",
     "text": [
      "https://www.facebook.com/v2.12/dialog/oauth?client_id=1532167366905914&redirect_uri=https%3A%2F%2Flocalhost%2Fcallback&response_type=code&state=1234567890&scope=public_profile&scope=user_likes&scope=user_photos&scope=user_posts\n"
     ]
    }
   ],
   "source": [
    "location = \"www.facebook.com\"\n",
    "auth_resource = \"/v2.12/dialog/oauth?\"\n",
    "auth_url = buildURLwithParams(location, auth_resource, urlquery)\n",
    "print(auth_url)"
   ]
  },
  {
   "cell_type": "markdown",
   "metadata": {},
   "source": [
    "### Step 2. User Agent/Resource Owner Interacts with Authorization Sever\n",
    "\n",
    "Using the above link, the user (myself) will authorize my app named `FinalProject` to read my own data. The following authorization window will pop up"
   ]
  },
  {
   "cell_type": "markdown",
   "metadata": {},
   "source": [
    "<img src=\"Authorization.png\" width=\"500\">"
   ]
  },
  {
   "cell_type": "markdown",
   "metadata": {},
   "source": [
    "### Step 3. Authorization Server Redirects User's Web Browser to App/Client\n",
    "\n",
    "Once I click `Continue as Trang` which means I authorized the app to read my data, I was redirected to this site, where I can obtain the `code` which is hidden in the `url`"
   ]
  },
  {
   "cell_type": "markdown",
   "metadata": {},
   "source": [
    "<img src=\"LocalHost.png\" width=\"700\">"
   ]
  },
  {
   "cell_type": "markdown",
   "metadata": {},
   "source": [
    "### Step 4. User/Resource Owner Communcates `code` and `state` to the App\n",
    "\n",
    "Once we obtained the `code` and `app`, we will update the `creds.json` file\n"
   ]
  },
  {
   "cell_type": "code",
   "execution_count": 25,
   "metadata": {},
   "outputs": [
    {
     "name": "stdout",
     "output_type": "stream",
     "text": [
      "{'appid': '1532167366905914', 'appsecret': '8cfdcfe4fb92e6af2119a6eff9325a36', 'redirect_uri': 'https://localhost/callback', 'code': 'AQAwGgQYRIle3vVR7OjrzMHmdhEiJCDpdrROlfE7tHXZxZGFIdQGYAhc5tKk7qamDq6T7TeH2O7j-hptrbCnKkMK_pUhGseXHIthVbwmDsl9whPscUZXSO6c8SXZUqeTWa-ST2_TN3_RIZzjxUAPhuVSVD5alRxlHmeICuA-k9K03BM6VUBaq-bpt8apccqkR5Bm3fIerG9y3zUZPWHcZrasvbqPj-QlRG8I239byGxy3UxKKHR9RlJLuJeE6ydTmWA80XFF52rWlUOK5TBNS6T3cjnrLTKarkiM-xbecLLQGwRsyFN3WNe4k-CiK318TZWxCrUkPrI3tZyAnl7VehrF', 'state': '1234567890', 'scope': ['public_profile', 'user_likes', 'user_photos', 'user_posts'], 'mytoken': 'EAAVxf4OkEDoBAE4cThIm0acjgpGCId0dPzT5krPF8o2LAZC627lsr6EZAaMQrcQbe4hPmYiycUFkzy9N3La4MGl0ImmdDHC1YiQ9q04OZCL9ZC9UvI9SoMLNMtGzK5cAzOCaVBVkv6bjnZCjybd5G1f126s3veJf76rmZAELCjBwZDZD'}\n"
     ]
    }
   ],
   "source": [
    "with open(\"creds.json\", \"r\") as file:\n",
    "    creds = json.load(file)\n",
    "print(str(creds['facebook']))"
   ]
  },
  {
   "cell_type": "markdown",
   "metadata": {},
   "source": [
    "### Step 5. App Exchanges Code for a Token\n",
    "\n",
    "> **Line 7** and **Line 8** of the OAuth Dance\n",
    "\n",
    "Once we obtained a `code` from the previous step, we will exchange this `code` for an `access token`.\n",
    "This is again a time for gathering information from the Provider on the information necessary to make the appropriate GitHub request to get this done.  We must determine the HTTP method, protocol, location, resource, and parameters to be used.  In particular, for Facebook, we have:\n",
    "\n",
    "variable | value | comment\n",
    "---------|-------|:--------\n",
    "method   | `GET` | Given in initial specification\n",
    "protocol | `https` | Given in initial specification\n",
    "location | `graph.facebook.com` | Given in initial specification\n",
    "resource  | `/v2.12/oauth/access_token?` | Given in initial specification\n",
    "client_id | `creds['facebook']['appid']` | Based on App registration and entering info in `creds.json`\n",
    "client_secret | `creds['facebook']['appsecret']` | Based on App registration and entering info in `creds.json`\n",
    "code | `creds['facebook']['code']` | Entered into creds.json based on Line 6 of OAuth Dance\n",
    "state | `creds['facebook']['state']` | Entered into creds.json based on Line 6 of OAuth Dance"
   ]
  },
  {
   "cell_type": "code",
   "execution_count": 52,
   "metadata": {},
   "outputs": [
    {
     "data": {
      "text/plain": [
       "{'client_id': '1532167366905914',\n",
       " 'client_secret': '8cfdcfe4fb92e6af2119a6eff9325a36',\n",
       " 'code': 'AQA73Rgor4IhQCoywILSuBdS8AtU4F1faQGobQBAq-TrcVlyHVwnMDkauKAOe5X1PfJHVpx3qAU0OSXT647cthLfhVywJDw066F2un-QEig_XvAy-c7cwhT23E6X82KLO-6wxJ2ahjTkxdthL4qtO-DJJ2TMMIC40_2Xg_XxCGj0jQXNmDzFhJCGj96_BqrtkIxbwnOAjsiJTM5F54-IExNTRhn2LwA480qFk6LL9RPW6wWGoCeveZkivHjPkauOQSc5PMKFPteslMXAo7xM5HpvaMn_g7IFRrGJlX_8BgcRJp265kA1OfvPqoJC9odj-dlB1HPIcl3Iy5cYyNzejgvG',\n",
       " 'redirect_uri': 'https://localhost/callback',\n",
       " 'state': '1234567890'}"
      ]
     },
     "execution_count": 52,
     "metadata": {},
     "output_type": "execute_result"
    }
   ],
   "source": [
    "urlquery = {}\n",
    "urlquery['client_id'] = creds['facebook']['appid']\n",
    "urlquery['client_secret'] = creds['facebook']['appsecret']\n",
    "urlquery['code'] = 'AQA73Rgor4IhQCoywILSuBdS8AtU4F1faQGobQBAq-TrcVlyHVwnMDkauKAOe5X1PfJHVpx3qAU0OSXT647cthLfhVywJDw066F2un-QEig_XvAy-c7cwhT23E6X82KLO-6wxJ2ahjTkxdthL4qtO-DJJ2TMMIC40_2Xg_XxCGj0jQXNmDzFhJCGj96_BqrtkIxbwnOAjsiJTM5F54-IExNTRhn2LwA480qFk6LL9RPW6wWGoCeveZkivHjPkauOQSc5PMKFPteslMXAo7xM5HpvaMn_g7IFRrGJlX_8BgcRJp265kA1OfvPqoJC9odj-dlB1HPIcl3Iy5cYyNzejgvG'\n",
    "\n",
    "#creds['facebook']['code']\n",
    "urlquery['redirect_uri'] = creds['facebook']['redirect_uri']\n",
    "urlquery['state'] = creds['facebook']['state']\n",
    "urlquery"
   ]
  },
  {
   "cell_type": "code",
   "execution_count": 53,
   "metadata": {},
   "outputs": [],
   "source": [
    "def TokenGetParams(location, resource, pdict):\n",
    "    '''\n",
    "    This function takes three parameters: a location, a resource and a dictionary, \n",
    "    construct and issue an HTTP request using the parameters specified in the dictionary \n",
    "    to the URL from the location and resource using the GET HTTP method. It then checks \n",
    "    the content type, and obtain a string conisting of the body of the returned \n",
    "    data resource. If the content type is JSON, the function will return a Python data\n",
    "    structure.\n",
    "    \n",
    "    Return: \n",
    "        - If the content type is JSON: a Python data structure.\n",
    "        - If not: A text string with the data resource\n",
    "    '''\n",
    "    \n",
    "    accessurl = buildBaseURL(location, auth_resource, protocol='https')\n",
    "    headerD = {'Accept': 'application/json'}\n",
    "    resp = requests.get(accessurl, headers=headerD, params=urlquery)\n",
    "    if resp.status_code != 200:\n",
    "        return None\n",
    "    else:\n",
    "        return resp.text"
   ]
  },
  {
   "cell_type": "code",
   "execution_count": 54,
   "metadata": {},
   "outputs": [
    {
     "name": "stdout",
     "output_type": "stream",
     "text": [
      "https://graph.facebook.com/v2.12/oauth/access_token?\n",
      "<Response [200]>\n",
      "{\"access_token\":\"EAAVxf4OkEDoBABmKWxShpP2EK0Q7rW0fZAvaPxGj0id1fh8wrVwQ4E9T8ZBFgnDzraiiK0oK1qfmvkWXH83mHWkdyvIfGCIu8zstosbliBPKLDS0aUpWJe3jZA4e8rVwxZBwNYDojZAAvSveFaNVQLZCavj28YVOEqp1daEPEeLAZDZD\",\"token_type\":\"bearer\",\"expires_in\":5182364}\n"
     ]
    }
   ],
   "source": [
    "location = \"graph.facebook.com\"\n",
    "auth_resource = \"/v2.12/oauth/access_token?\"\n",
    "token = TokenGetParams(location, auth_resource, urlquery)\n",
    "print(token)"
   ]
  },
  {
   "cell_type": "markdown",
   "metadata": {},
   "source": [
    "## C. Discussion\n",
    "\n",
    "- At this point, we have obtained a single user token for myself. We initially planned to exchange this short-lived token for a long-lived one. However, we realized that each token could last for about 60 days (see the `expires_in` parameter above.\n",
    "- Initially, Christien also authorized the app to read his Facebook data (the app requested to read `public_profile`, `user_likes`, `user_photos` and `user_posts`. However, as Facebook is changing its data policy, the app needs to submit a review in order to read any other type of data about the users (rather than the default `id` and `name`). Please see the following screenshot for more information on the types of App that needed to be reviewed by Facebook\n",
    "https://developers.facebook.com/docs/apps/review"
   ]
  },
  {
   "cell_type": "markdown",
   "metadata": {},
   "source": [
    "<img src=\"AppReview.png\" width=\"750\">"
   ]
  },
  {
   "cell_type": "markdown",
   "metadata": {},
   "source": []
  }
 ],
 "metadata": {
  "kernelspec": {
   "display_name": "Python 3",
   "language": "python",
   "name": "python3"
  },
  "language_info": {
   "codemirror_mode": {
    "name": "ipython",
    "version": 3
   },
   "file_extension": ".py",
   "mimetype": "text/x-python",
   "name": "python",
   "nbconvert_exporter": "python",
   "pygments_lexer": "ipython3",
   "version": "3.6.4"
  }
 },
 "nbformat": 4,
 "nbformat_minor": 2
}
